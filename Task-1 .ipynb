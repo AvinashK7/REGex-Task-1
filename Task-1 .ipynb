{
 "cells": [
  {
   "cell_type": "markdown",
   "id": "997c6fed",
   "metadata": {},
   "source": [
    "### QUESTION-1"
   ]
  },
  {
   "cell_type": "code",
   "execution_count": 65,
   "id": "cf95cf70",
   "metadata": {},
   "outputs": [
    {
     "name": "stdout",
     "output_type": "stream",
     "text": [
      "5 5 5 5 5 \n",
      "5 5 5 5 \n",
      "5 5 5 \n",
      "5 5 \n",
      "5 \n"
     ]
    }
   ],
   "source": [
    "for i in range(6,1,-1):\n",
    "    for j in range(i,1,-1):\n",
    "        print(\"5\", end=\" \")\n",
    "    print() "
   ]
  },
  {
   "cell_type": "markdown",
   "id": "4b08c866",
   "metadata": {},
   "source": [
    "### QUESTION-2"
   ]
  },
  {
   "cell_type": "code",
   "execution_count": 6,
   "id": "4f0aa52d",
   "metadata": {},
   "outputs": [
    {
     "name": "stdout",
     "output_type": "stream",
     "text": [
      "0 1 2 3 4 5 \n",
      "0 1 2 3 4 \n",
      "0 1 2 3 \n",
      "0 1 2 \n",
      "0 1 \n"
     ]
    }
   ],
   "source": [
    "for i in range(6,1,-1):\n",
    "    for j in range(0,i,1):\n",
    "        print(j, end=\" \")\n",
    "    print()"
   ]
  },
  {
   "cell_type": "markdown",
   "id": "be4c6d60",
   "metadata": {},
   "source": [
    "### QUESTION-3"
   ]
  },
  {
   "cell_type": "code",
   "execution_count": 8,
   "id": "96a63892",
   "metadata": {},
   "outputs": [
    {
     "name": "stdout",
     "output_type": "stream",
     "text": [
      "\n",
      "1 \n",
      "3 3 \n",
      "5 5 5 \n",
      "7 7 7 7 \n",
      "9 9 9 9 9 \n"
     ]
    }
   ],
   "source": [
    "for i in range(0,6,1):\n",
    "    for j in range(0,i,1):\n",
    "        print(2*i-1, end=\" \")\n",
    "    print()"
   ]
  },
  {
   "cell_type": "markdown",
   "id": "cfd1ab37",
   "metadata": {},
   "source": [
    "### QUESTION-4"
   ]
  },
  {
   "cell_type": "code",
   "execution_count": 10,
   "id": "33c4e933",
   "metadata": {},
   "outputs": [
    {
     "name": "stdout",
     "output_type": "stream",
     "text": [
      "1 \n",
      "2 1 \n",
      "3 2 1 \n",
      "4 3 2 1 \n",
      "5 4 3 2 1 \n"
     ]
    }
   ],
   "source": [
    "for i in range(1,6,1):\n",
    "    for j in range(0,i,1):\n",
    "        print(i-j, end=\" \")\n",
    "    print()"
   ]
  },
  {
   "cell_type": "markdown",
   "id": "d6bff366",
   "metadata": {},
   "source": [
    "### QUESTION-5"
   ]
  },
  {
   "cell_type": "code",
   "execution_count": 12,
   "id": "c98016fc",
   "metadata": {},
   "outputs": [
    {
     "name": "stdout",
     "output_type": "stream",
     "text": [
      "1 \n",
      "3 2 \n",
      "6 5 4 \n",
      "10 9 8 7 \n"
     ]
    }
   ],
   "source": [
    "k=1\n",
    "for i in range(1,5,1):\n",
    "    for j in range(0,i,1):\n",
    "        print(k-j, end=\" \")\n",
    "    k=k+i+1\n",
    "    print()"
   ]
  },
  {
   "cell_type": "markdown",
   "id": "e04d8019",
   "metadata": {},
   "source": [
    "### QUESTION-6"
   ]
  },
  {
   "cell_type": "code",
   "execution_count": 19,
   "id": "32849c68",
   "metadata": {},
   "outputs": [
    {
     "name": "stdout",
     "output_type": "stream",
     "text": [
      "1 \n",
      "1 1 \n",
      "1 2 1 \n",
      "1 3 3 1 \n",
      "1 4 6 4 1 \n",
      "1 5 10 10 5 1 \n",
      "1 6 15 20 15 6 1 \n"
     ]
    }
   ],
   "source": [
    "from math import factorial\n",
    "n = 7\n",
    "for i in range(n):\n",
    "\tfor j in range(i+1):\n",
    "\t\tprint(factorial(i)//(factorial(j)*factorial(i-j)), end=\" \")\n",
    "\tprint()"
   ]
  },
  {
   "cell_type": "markdown",
   "id": "9bfb6868",
   "metadata": {},
   "source": [
    "### QUESTION-7"
   ]
  },
  {
   "cell_type": "code",
   "execution_count": 24,
   "id": "f6856313",
   "metadata": {},
   "outputs": [
    {
     "name": "stdout",
     "output_type": "stream",
     "text": [
      "1 2 3 4 5 \n",
      "2 2 3 4 5 \n",
      "3 3 3 4 5 \n",
      "4 4 4 4 5 \n",
      "5 5 5 5 5 \n"
     ]
    }
   ],
   "source": [
    "for i in range (1,6):\n",
    "    for j in range (1,6):\n",
    "        if i>j:\n",
    "            print(i, end=\" \")\n",
    "        else:\n",
    "            print(j, end=\" \")\n",
    "    print()"
   ]
  },
  {
   "cell_type": "markdown",
   "id": "0c87977e",
   "metadata": {},
   "source": [
    "### QUESTION-8"
   ]
  },
  {
   "cell_type": "code",
   "execution_count": 28,
   "id": "77dfcff0",
   "metadata": {},
   "outputs": [
    {
     "name": "stdout",
     "output_type": "stream",
     "text": [
      "1 \n",
      "2 4 \n",
      "3 6 9 \n",
      "4 8 12 16 \n",
      "5 10 15 20 25 \n",
      "6 12 18 24 30 36 \n",
      "7 14 21 28 35 42 49 \n",
      "8 16 24 32 40 48 56 64 \n"
     ]
    }
   ],
   "source": [
    "for i in range(1,9):\n",
    "    x=1\n",
    "    for j in range(1,i+1):\n",
    "        n=i*x\n",
    "        print(n, end=\" \")\n",
    "        x+=1\n",
    "    print()"
   ]
  },
  {
   "cell_type": "markdown",
   "id": "a1886038",
   "metadata": {},
   "source": [
    "### QUESTION-9"
   ]
  },
  {
   "cell_type": "code",
   "execution_count": 32,
   "id": "dd9502db",
   "metadata": {},
   "outputs": [
    {
     "name": "stdout",
     "output_type": "stream",
     "text": [
      "Enter a Number: 6\n",
      "* * * * * * \n",
      " * * * * * \n",
      "  * * * * \n",
      "   * * * \n",
      "    * * \n",
      "     * \n"
     ]
    }
   ],
   "source": [
    "n=int(input(\"Enter a Number: \"))\n",
    "for i in range(n,0,-1):\n",
    "    print(\" \"*(n-i)+\"* \"*i)"
   ]
  },
  {
   "cell_type": "markdown",
   "id": "64ce29c4",
   "metadata": {},
   "source": [
    "### QUESTION-10"
   ]
  },
  {
   "cell_type": "code",
   "execution_count": 33,
   "id": "7f3d1f9c",
   "metadata": {},
   "outputs": [
    {
     "name": "stdout",
     "output_type": "stream",
     "text": [
      "Enter a Number: 6\n",
      "     * \n",
      "    * * \n",
      "   * * * \n",
      "  * * * * \n",
      " * * * * * \n",
      "* * * * * * \n"
     ]
    }
   ],
   "source": [
    "n=int(input(\"Enter a Number: \"))\n",
    "for i in range(1,n+1):\n",
    "    print(\" \"*(n-i)+\"* \"*i)"
   ]
  },
  {
   "cell_type": "markdown",
   "id": "628d2af5",
   "metadata": {},
   "source": [
    "### QUESTION-11"
   ]
  },
  {
   "cell_type": "code",
   "execution_count": 36,
   "id": "0daed2f6",
   "metadata": {},
   "outputs": [
    {
     "name": "stdout",
     "output_type": "stream",
     "text": [
      "* \n",
      "* * \n",
      "* * * \n",
      "* * * * \n",
      "* * * * * \n",
      "* * * * * * \n",
      "\n",
      "* * * * * * \n",
      "* * * * * \n",
      "* * * * \n",
      "* * * \n",
      "* * \n",
      "* \n"
     ]
    }
   ],
   "source": [
    "for i in range(1,7):\n",
    "    print(\"* \"*i)\n",
    "    \n",
    "print()\n",
    "for i in range(6,0,-1):\n",
    "    print(\"* \"*i)"
   ]
  },
  {
   "cell_type": "markdown",
   "id": "d6adf820",
   "metadata": {},
   "source": [
    "### QUESTION-12"
   ]
  },
  {
   "cell_type": "code",
   "execution_count": 39,
   "id": "38393987",
   "metadata": {},
   "outputs": [
    {
     "name": "stdout",
     "output_type": "stream",
     "text": [
      "* \n",
      "* * \n",
      "* * * \n",
      "* * * * \n",
      "* * * * * \n",
      "* * * * \n",
      "* * * \n",
      "* * \n",
      "* \n"
     ]
    }
   ],
   "source": [
    "for i in range(1,6):\n",
    "    print(\"* \"*i)\n",
    "for i in range(4,0,-1):\n",
    "    print(\"* \"*i)"
   ]
  },
  {
   "cell_type": "markdown",
   "id": "e93d9b77",
   "metadata": {},
   "source": [
    "### QUESTION-13\n"
   ]
  },
  {
   "cell_type": "code",
   "execution_count": 46,
   "id": "3b997779",
   "metadata": {},
   "outputs": [
    {
     "name": "stdout",
     "output_type": "stream",
     "text": [
      "Enter a Number: 10\n",
      "                  * \n",
      "                * * \n",
      "              * * * \n",
      "            * * * * \n",
      "          * * * * * \n",
      "        * * * * * * \n",
      "      * * * * * * * \n",
      "    * * * * * * * * \n",
      "  * * * * * * * * * \n",
      "* * * * * * * * * * \n",
      "  * * * * * * * * * \n",
      "    * * * * * * * * \n",
      "      * * * * * * * \n",
      "        * * * * * * \n",
      "          * * * * * \n",
      "            * * * * \n",
      "              * * * \n",
      "                * * \n",
      "                  * \n"
     ]
    }
   ],
   "source": [
    "a= int(input(\"Enter a Number: \"))\n",
    "for i in range (1,a+1):\n",
    "    print(\"  \"*(a-i)+\"* \"*i)\n",
    "for i in range (a-1,0,-1):\n",
    "    print(\"  \"*(a-i)+\"* \"*i)"
   ]
  },
  {
   "cell_type": "markdown",
   "id": "2e61e2ed",
   "metadata": {},
   "source": [
    "### QUESTION-14"
   ]
  },
  {
   "cell_type": "code",
   "execution_count": 58,
   "id": "0a4c33fd",
   "metadata": {},
   "outputs": [
    {
     "name": "stdout",
     "output_type": "stream",
     "text": [
      "Enter a Number: 6\n",
      "* * * * * * \n",
      " * * * * * \n",
      "  * * * * \n",
      "   * * * \n",
      "    * * \n",
      "     * \n",
      "     * \n",
      "    * * \n",
      "   * * * \n",
      "  * * * * \n",
      " * * * * * \n",
      "* * * * * * \n"
     ]
    }
   ],
   "source": [
    "a= int(input(\"Enter a Number: \"))\n",
    "for i in range (n,0,-1):\n",
    "    print(\" \"*(a-i)+\"* \"*i)\n",
    "for i in range (1,a+1):\n",
    "    print(\" \"*(a-i)+\"* \"*i)"
   ]
  },
  {
   "cell_type": "markdown",
   "id": "532e3c43",
   "metadata": {},
   "source": [
    "### QUESTION-15"
   ]
  },
  {
   "cell_type": "code",
   "execution_count": 57,
   "id": "90460230",
   "metadata": {},
   "outputs": [
    {
     "name": "stdout",
     "output_type": "stream",
     "text": [
      "****************\n",
      "*******__*******\n",
      "******____******\n",
      "*****______*****\n",
      "****________****\n",
      "***__________***\n",
      "**____________**\n",
      "*______________*\n"
     ]
    }
   ],
   "source": [
    "for i in range(1,9):\n",
    "    for j in range(1,17):\n",
    "        if(j<=9-i or j>=8+i):\n",
    "            print(\"*\", end=\"\")\n",
    "        else:\n",
    "            print(\"_\",end=\"\")\n",
    "    print()"
   ]
  },
  {
   "cell_type": "code",
   "execution_count": null,
   "id": "d235116b",
   "metadata": {},
   "outputs": [],
   "source": [
    "\n",
    "for i in range(6,1,-1):\n",
    "    for j in range(i,1,-1):\n",
    "        print(\"5\", end=\" \")\n",
    "    print() "
   ]
  }
 ],
 "metadata": {
  "kernelspec": {
   "display_name": "Python 3",
   "language": "python",
   "name": "python3"
  },
  "language_info": {
   "codemirror_mode": {
    "name": "ipython",
    "version": 3
   },
   "file_extension": ".py",
   "mimetype": "text/x-python",
   "name": "python",
   "nbconvert_exporter": "python",
   "pygments_lexer": "ipython3",
   "version": "3.8.8"
  }
 },
 "nbformat": 4,
 "nbformat_minor": 5
}
